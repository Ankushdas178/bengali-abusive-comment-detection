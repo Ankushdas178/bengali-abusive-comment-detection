{
  "nbformat": 4,
  "nbformat_minor": 0,
  "metadata": {
    "colab": {
      "provenance": []
    },
    "kernelspec": {
      "name": "python3",
      "display_name": "Python 3"
    },
    "language_info": {
      "name": "python"
    }
  },
  "cells": [
    {
      "cell_type": "code",
      "execution_count": null,
      "metadata": {
        "colab": {
          "base_uri": "https://localhost:8080/"
        },
        "id": "KmcM29kdh7wA",
        "outputId": "e829d15b-767f-4627-8da2-76ae9d6533e4"
      },
      "outputs": [
        {
          "output_type": "stream",
          "name": "stdout",
          "text": [
            "Cohen's Kappa Score: 0.9265530862227187\n"
          ]
        }
      ],
      "source": [
        "import pandas as pd\n",
        "from sklearn.metrics import cohen_kappa_score\n",
        "\n",
        "def calculate_cohens_kappa(csv_file):\n",
        "    # Load the CSV file\n",
        "    df = pd.read_csv(\"/content/Cohen's Kappa Measurement dataset - Abusive_Merged_Classes-new.csv\")\n",
        "\n",
        "    # Extract annotations by the two annotators\n",
        "    annotator_1 = df['Annotator 1 (Ankush)']\n",
        "    annotator_2 = df['Annotator 2 (Sumit)']\n",
        "\n",
        "    # Compute Cohen's Kappa\n",
        "    kappa = cohen_kappa_score(annotator_1, annotator_2)\n",
        "\n",
        "    return kappa\n",
        "\n",
        "# Example usage\n",
        "csv_file = 'annotations.csv'  # Replace with your actual file name\n",
        "kappa_score = calculate_cohens_kappa(csv_file)\n",
        "print(f\"Cohen's Kappa Score: {kappa_score}\")\n"
      ]
    }
  ]
}